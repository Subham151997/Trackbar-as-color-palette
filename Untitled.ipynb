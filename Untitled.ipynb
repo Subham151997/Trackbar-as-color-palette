{
 "cells": [
  {
   "cell_type": "code",
   "execution_count": 5,
   "metadata": {},
   "outputs": [],
   "source": [
    "import cv2\n",
    "import numpy as np"
   ]
  },
  {
   "cell_type": "code",
   "execution_count": 6,
   "metadata": {},
   "outputs": [],
   "source": [
    "def none(x):\n",
    "    pass\n",
    " \n",
    "def main():\n",
    "    img1=np.zeros((512,512,3),np.uint8)\n",
    "    \n",
    "    windowname='trackbar as color palette'\n",
    "    cv2.namedWindow(windowname)\n",
    "    \n",
    "    cv2.createTrackbar('B',windowname,0,255,none)\n",
    "    cv2.createTrackbar('G',windowname,0,255,none)\n",
    "    cv2.createTrackbar('R',windowname,0,255,none)\n",
    "    \n",
    "    while(True):\n",
    "        cv2.imshow(windowname,img1)\n",
    "        if cv2.waitKey(1)==27:\n",
    "            break\n",
    "        \n",
    "        \n",
    "        blue=cv2.getTrackbarPos('B',windowname)\n",
    "        green=cv2.getTrackbarPos('G',windowname)\n",
    "        red=cv2.getTrackbarPos('R',windowname)\n",
    "        \n",
    "        img1[:]=[blue,green,red]\n",
    "          \n",
    "    cv2.destroyAllWindows()\n",
    "    \n",
    "if __name__==\"__main__\":\n",
    "    main()\n",
    "    "
   ]
  },
  {
   "cell_type": "code",
   "execution_count": null,
   "metadata": {},
   "outputs": [],
   "source": []
  },
  {
   "cell_type": "code",
   "execution_count": null,
   "metadata": {},
   "outputs": [],
   "source": []
  }
 ],
 "metadata": {
  "kernelspec": {
   "display_name": "Python 3",
   "language": "python",
   "name": "python3"
  },
  "language_info": {
   "codemirror_mode": {
    "name": "ipython",
    "version": 3
   },
   "file_extension": ".py",
   "mimetype": "text/x-python",
   "name": "python",
   "nbconvert_exporter": "python",
   "pygments_lexer": "ipython3",
   "version": "3.7.1"
  }
 },
 "nbformat": 4,
 "nbformat_minor": 2
}
